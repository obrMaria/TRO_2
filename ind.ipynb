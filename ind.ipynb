{
 "cells": [
  {
   "cell_type": "markdown",
   "id": "5dea8281",
   "metadata": {},
   "source": [
    "2(21) \n",
    "Дана целочисленная прямоугольная матрица. Определить количество столбцов, не содержащих ни одного нулевого элемента. Характеристикой строки целочисленной матрицы назовем сумму ее положительных четных элементов. Переставляя строки заданной матрицы, расположить их в соответствии с ростом характеристик."
   ]
  },
  {
   "cell_type": "code",
   "execution_count": 3,
   "id": "5859c841",
   "metadata": {},
   "outputs": [],
   "source": [
    "import numpy as np"
   ]
  },
  {
   "cell_type": "code",
   "execution_count": 11,
   "id": "57162500",
   "metadata": {},
   "outputs": [
    {
     "name": "stdout",
     "output_type": "stream",
     "text": [
      "[[  0  -9   0   9  -1   0]\n",
      " [ -8  -9   3   8 -10  -9]\n",
      " [ -5  14  12  -6  -1   6]\n",
      " [ -1  -2  13  -8  -3   2]]\n"
     ]
    }
   ],
   "source": [
    "array = np.random.randint(-10,15,(4,6))\n",
    "print(array)"
   ]
  },
  {
   "cell_type": "markdown",
   "id": "76643f9a",
   "metadata": {},
   "source": [
    "The np.all() function tests if all elements in an array are True."
   ]
  },
  {
   "cell_type": "code",
   "execution_count": 15,
   "id": "dca9a99d",
   "metadata": {},
   "outputs": [
    {
     "name": "stdout",
     "output_type": "stream",
     "text": [
      "количество ненулевых столбцов =  3\n"
     ]
    }
   ],
   "source": [
    "non_zero = np.all(array, axis = 0)\n",
    "non_zero = non_zero[non_zero == True]\n",
    "print(\"количество ненулевых столбцов = \",len(non_zero))"
   ]
  },
  {
   "cell_type": "markdown",
   "id": "60bd3db7",
   "metadata": {},
   "source": [
    "создадим отдельный массив, в котором находятся характеристики каждой строки"
   ]
  },
  {
   "cell_type": "code",
   "execution_count": 13,
   "id": "7ca40369",
   "metadata": {},
   "outputs": [
    {
     "name": "stdout",
     "output_type": "stream",
     "text": [
      "массив, в котором находятся характеристики каждой строки:\n",
      " [ 0  8 32  2]\n",
      "\n",
      "\n",
      "\n",
      "заданная матрица, расположенная в соот-ии с ростом характеристик:\n",
      " [[  0  -9   0   9  -1   0]\n",
      " [ -1  -2  13  -8  -3   2]\n",
      " [ -8  -9   3   8 -10  -9]\n",
      " [ -5  14  12  -6  -1   6]]\n"
     ]
    }
   ],
   "source": [
    "sum_srt = np.where(((array > 0) & (array % 2 == 0)),1,0) * array\n",
    "sum_srt = sum_srt.sum(axis = 1)\n",
    "print('массив, в котором находятся характеристики каждой строки:\\n',sum_srt)\n",
    "print('\\n\\n')\n",
    "print('заданная матрица, расположенная в соот-ии с ростом характеристик:\\n',array[sum_srt.argsort()])"
   ]
  }
 ],
 "metadata": {
  "kernelspec": {
   "display_name": "Python 3 (ipykernel)",
   "language": "python",
   "name": "python3"
  },
  "language_info": {
   "codemirror_mode": {
    "name": "ipython",
    "version": 3
   },
   "file_extension": ".py",
   "mimetype": "text/x-python",
   "name": "python",
   "nbconvert_exporter": "python",
   "pygments_lexer": "ipython3",
   "version": "3.9.13"
  }
 },
 "nbformat": 4,
 "nbformat_minor": 5
}
